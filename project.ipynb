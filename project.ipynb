{
 "cells": [
  {
   "cell_type": "markdown",
   "id": "8b624e4f",
   "metadata": {},
   "source": ""
  },
  {
   "cell_type": "code",
   "execution_count": null,
   "id": "bd2848cb",
   "metadata": {},
   "outputs": [],
   "source": [
    "import sqlite3\n",
    "import matplotlib.pyplot as plt\n",
    "\n",
    "# ბაზასთან დაკავშირება\n",
    "conn = sqlite3.connect(\"students.sqlite\")\n",
    "cursor = conn.cursor()\n",
    "\n",
    "# ცხრილების გამოჩნენა\n",
    "cursor.execute(\"SELECT name FROM sqlite_master WHERE type='table';\")\n",
    "print(\"ცხრილები ბაზაში:\", cursor.fetchall())\n"
   ]
  },
  {
   "cell_type": "code",
   "execution_count": null,
   "id": "0d4e2c0d",
   "metadata": {},
   "outputs": [],
   "source": [
    "# ვკითხულობთ ყველა სტუდენტს, რომელთაც აქვთ მათემატიკაში 90-ზე მეტი ქულა\n",
    "cursor.execute(\"SELECT gender, `math score` FROM Students WHERE `math score` > 90\")\n",
    "rows = cursor.fetchall()\n",
    "for row in rows:\n",
    "    print(row)\n",
    "\n",
    "# ამ კოდი ბეჭდავს იმ სტუდენტებს, რომელთაც მათემატიკაში 90-ზე მეტი ქულა აქვთ\n"
   ]
  },
  {
   "cell_type": "code",
   "execution_count": null,
   "id": "ec55652a",
   "metadata": {},
   "outputs": [],
   "source": [
    "# ჩანაწერის დამატება მომხმარებლის მიერ შეყვანილი მონაცემებით\n",
    "gender = input(\"შეიყვანე სქესი: \")\n",
    "race = input(\"შეიყვანე ეთნიკური ჯგუფი: \")\n",
    "education = input(\"შეიყვანე მშობლის განათლების დონე: \")\n",
    "lunch = input(\"შეიყვანე სადილი (standard/free/reduced): \")\n",
    "prep = input(\"შეიყვანე ტესტის მომზადების კურსი (none/completed): \")\n",
    "math = int(input(\"შეიყვანე მათემატიკის ქულა: \"))\n",
    "reading = int(input(\"კითხვის ქულა: \"))\n",
    "writing = int(input(\"წერის ქულა: \"))\n",
    "\n",
    "cursor.execute(\"\"\"\n",
    "INSERT INTO Students (\n",
    "    gender, `race/ethnicity`, `parental level of education`, lunch,\n",
    "    `test preparation course`, `math score`, `reading score`, `writing score`\n",
    ") VALUES (?, ?, ?, ?, ?, ?, ?, ?)\n",
    "\"\"\", (gender, race, education, lunch, prep, math, reading, writing))\n",
    "conn.commit()\n",
    "\n",
    "print(\"ჩანაწერი დამატებულია.\")\n",
    "\n",
    "# ეს კოდი ამატებს ახალ სტუდენტს ბაზაში\n"
   ]
  },
  {
   "cell_type": "code",
   "execution_count": null,
   "id": "5c8d3767",
   "metadata": {},
   "outputs": [],
   "source": [
    "# ჩანაწერის განახლება — math score კონკრეტული პირობით\n",
    "target_gender = input(\"შეიყვანე სქესი: \")\n",
    "new_math = int(input(\"შეიყვანე ახალი ქულა მათემატიკაში: \"))\n",
    "\n",
    "cursor.execute(\"UPDATE Students SET `math score` = ? WHERE gender = ?\", (new_math, target_gender))\n",
    "conn.commit()\n",
    "\n",
    "print(\"განახლება შესრულებულია.\")\n",
    "\n",
    "# კოდი განაახლებს ყველა სტუდენტის მათემატიკის ქულას მითითებული სქესის მიხედვით\n"
   ]
  },
  {
   "cell_type": "code",
   "execution_count": null,
   "id": "5f04b081",
   "metadata": {},
   "outputs": [],
   "source": [
    "# ჩანაწერის წაშლ\n",
    "target_race = input(\"შეიყვანე ჯგუფი რომლის სტუდენტებიც წაიშლება ( напр. group A): \")\n",
    "cursor.execute(\"DELETE FROM Students WHERE `race/ethnicity` = ?\", (target_race,))\n",
    "conn.commit()\n",
    "\n",
    "print(\"ჩანაწერები წაიშალა მითითებული ჯგუფის სტუდენტებისთვის.\")\n",
    "\n",
    "# წაშლის ყველა სტუდენტს მითითებული race/ethnicity ჯგუფიდან\n"
   ]
  },
  {
   "cell_type": "code",
   "execution_count": null,
   "id": "1c9d9f4f",
   "metadata": {},
   "outputs": [],
   "source": [
    "import pandas as pd\n",
    "\n",
    "df = pd.read_sql_query(\"SELECT * FROM Students\", conn)\n",
    "\n",
    "# 📊 დიაგრამა 1 — ჰისტოგრამა მათემატიკის ქულების\n",
    "plt.hist(df['math score'], bins=10, color='skyblue')\n",
    "plt.title(\"მათემატიკის ქულების განაწილება\")\n",
    "plt.xlabel(\"ქულა\")\n",
    "plt.ylabel(\"სტუდენტების რაოდენობა\")\n",
    "plt.grid(True)\n",
    "plt.show()\n"
   ]
  },
  {
   "cell_type": "code",
   "execution_count": null,
   "id": "c0681499",
   "metadata": {},
   "outputs": [],
   "source": [
    "# 📊 დიაგრამა 2 — ბარის დიაგრამა სქესისა და საშუალო წერის ქულის მიხედვით\n",
    "avg_scores = df.groupby('gender')['writing score'].mean()\n",
    "avg_scores.plot(kind='bar', color='orange')\n",
    "plt.title(\"საშუალო წერის ქულა სქესის მიხედვით\")\n",
    "plt.ylabel(\"ქულა\")\n",
    "plt.grid(axis='y')\n",
    "plt.show()\n"
   ]
  },
  {
   "cell_type": "code",
   "execution_count": null,
   "id": "ad0acf67",
   "metadata": {},
   "outputs": [],
   "source": [
    "# 📊 დიაგრამა 3 — წრიული დიაგრამა ტესტის მომზადების კურსის კატეგორიებით\n",
    "prep_counts = df['test preparation course'].value_counts()\n",
    "prep_counts.plot(kind='pie', autopct='%1.1f%%', startangle=140)\n",
    "plt.title(\"ტესტის მომზადების კურსის სტატისტიკა\")\n",
    "plt.ylabel(\"\")\n",
    "plt.show()\n",
    "\n",
    "conn.close()\n"
   ]
  }
 ],
 "metadata": {},
 "nbformat": 4,
 "nbformat_minor": 5
}
